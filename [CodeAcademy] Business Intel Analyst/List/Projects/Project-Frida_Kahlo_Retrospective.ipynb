{
 "cells": [
  {
   "cell_type": "code",
   "execution_count": 1,
   "id": "d6adb88b-f1f2-44cc-948e-a6dc917f363e",
   "metadata": {},
   "outputs": [],
   "source": [
    "# Code Academy Project: Frida Kahlo Retrospective\n",
    "# Course/Path Business Intel Analyst\n"
   ]
  },
  {
   "cell_type": "code",
   "execution_count": 2,
   "id": "f6e8241a-8d3d-4aea-951d-87fe1e1c6411",
   "metadata": {},
   "outputs": [],
   "source": [
    "# Creating multiple list\n",
    "# Steps 1 & 2\n",
    "\n",
    "painting = ['The Two Fridas', 'My Dress Hangs Here', 'Tree of Hope', 'Self Portrait With Monkeys']\n",
    "\n",
    "dates = [1939, 1933, 1946, 1940]\n"
   ]
  },
  {
   "cell_type": "code",
   "execution_count": 3,
   "id": "dbd21aa1-dc8a-4f73-8a66-db422d96a5d3",
   "metadata": {},
   "outputs": [
    {
     "name": "stdout",
     "output_type": "stream",
     "text": [
      "[('The Two Fridas', 1939), ('My Dress Hangs Here', 1933), ('Tree of Hope', 1946), ('Self Portrait With Monkeys', 1940)]\n"
     ]
    }
   ],
   "source": [
    "# Step 3: Join the two list using the zip() and list() functions\n",
    "\n",
    "paintings = list(zip(painting, dates))\n",
    "\n",
    "print(paintings)"
   ]
  },
  {
   "cell_type": "code",
   "execution_count": 4,
   "id": "dac1dbdc-18f8-4ce2-b1c2-6f354b4e5a55",
   "metadata": {},
   "outputs": [
    {
     "name": "stdout",
     "output_type": "stream",
     "text": [
      "[('The Two Fridas', 1939), ('My Dress Hangs Here', 1933), ('Tree of Hope', 1946), ('Self Portrait With Monkeys', 1940), ('The Broken Column', 1944), ('The Wounded Deer', 1946), ('Me and My Doll', 1937)]\n"
     ]
    }
   ],
   "source": [
    "# Step 4: Add additional information to the paintings list using the append() function\n",
    "\n",
    "new_inventory = [('The Broken Column', 1944), ('The Wounded Deer', 1946), ('Me and My Doll', 1937)]\n",
    "\n",
    "for inventory in new_inventory:\n",
    "    new_tuple = tuple(inventory)\n",
    "    paintings.append(new_tuple)\n",
    "\n",
    "print(paintings)\n",
    "        "
   ]
  },
  {
   "cell_type": "code",
   "execution_count": 5,
   "id": "6ee4dec6-66a3-4c34-86e5-c25ae2862c74",
   "metadata": {},
   "outputs": [
    {
     "name": "stdout",
     "output_type": "stream",
     "text": [
      "7\n"
     ]
    }
   ],
   "source": [
    "# Step 5: Find the total number of paintings using the len() function\n",
    "\n",
    "total_number_paintings = len(paintings)\n",
    "\n",
    "print(total_number_paintings)"
   ]
  },
  {
   "cell_type": "code",
   "execution_count": 6,
   "id": "8ac20403-c1cf-4c3d-9d1a-9ee058643d8a",
   "metadata": {},
   "outputs": [
    {
     "name": "stdout",
     "output_type": "stream",
     "text": [
      "[1, 2, 3, 4, 5, 6]\n"
     ]
    }
   ],
   "source": [
    "# Step 6: Generate a list of identification numbers using the range() function.\n",
    "\n",
    "audio_tour_number = []\n",
    "\n",
    "for id in range(1, int(total_number_paintings)):\n",
    "    audio_tour_number.append(id)\n",
    "\n",
    "print(audio_tour_number)"
   ]
  },
  {
   "cell_type": "code",
   "execution_count": 8,
   "id": "6196b358-b844-4b63-9410-2d7fea12d807",
   "metadata": {},
   "outputs": [
    {
     "name": "stdout",
     "output_type": "stream",
     "text": [
      "[(1, ('The Two Fridas', 1939)), (2, ('My Dress Hangs Here', 1933)), (3, ('Tree of Hope', 1946)), (4, ('Self Portrait With Monkeys', 1940)), (5, ('The Broken Column', 1944)), (6, ('The Wounded Deer', 1946))]\n"
     ]
    }
   ],
   "source": [
    "# Step 7: Create a master list using the zip() function.\n",
    "\n",
    "master_list = list(zip(audio_tour_number, paintings))\n",
    "\n",
    "print(master_list)\n",
    "\n"
   ]
  },
  {
   "cell_type": "code",
   "execution_count": null,
   "id": "4f16c977-1dde-425a-9b10-2e762188f0c1",
   "metadata": {},
   "outputs": [],
   "source": []
  }
 ],
 "metadata": {
  "kernelspec": {
   "display_name": "Python 3 (ipykernel)",
   "language": "python",
   "name": "python3"
  },
  "language_info": {
   "codemirror_mode": {
    "name": "ipython",
    "version": 3
   },
   "file_extension": ".py",
   "mimetype": "text/x-python",
   "name": "python",
   "nbconvert_exporter": "python",
   "pygments_lexer": "ipython3",
   "version": "3.11.7"
  }
 },
 "nbformat": 4,
 "nbformat_minor": 5
}
